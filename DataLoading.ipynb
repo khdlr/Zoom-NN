{
 "cells": [
  {
   "cell_type": "code",
   "execution_count": 2,
   "metadata": {},
   "outputs": [],
   "source": [
    "import numpy as np\n",
    "import pandas as pd\n",
    "import matplotlib.pyplot as plt\n",
    "import tensorflow as tf\n",
    "\n",
    "\n",
    "%load_ext autoreload\n",
    "%autoreload 2\n",
    "import data_utils\n",
    "import data_loading"
   ]
  },
  {
   "cell_type": "code",
   "execution_count": 3,
   "metadata": {},
   "outputs": [],
   "source": [
    "import netCDF4\n",
    "def get_stack(ncf, names):\n",
    "    return np.stack([\n",
    "        np.array(ncf.variables.get(name))\n",
    "    for name in names], axis=-1)\n",
    "\n",
    "ncf = netCDF4.Dataset('data/20180413T202620_S1B_AMSR2_Icechart-Greenland-CapeFarewell.nc')\n",
    "\n",
    "sar   = get_stack(ncf, ['sar_primary', 'sar_secondary'])\n",
    "# nersc = get_stack(ncf, ['nersc_sar_primary', 'nersc_sar_secondary'])\n",
    "poly_id = get_stack(ncf, ['polygon_icechart'])\n",
    "poly_data = get_stack(ncf, ['polygon_codes'])\n",
    "\n",
    "freqs = [6.9, 7.3, 10.7, 18.7, 23.8, 36.5, 89.0]\n",
    "polarizations = ['v', 'h']\n",
    "from itertools import product\n",
    "btemp_names = [f'btemp_{freq}{pol}' for pol, freq in product(polarizations, freqs)]\n",
    "btemp = get_stack(ncf, btemp_names)"
   ]
  },
  {
   "cell_type": "code",
   "execution_count": 5,
   "metadata": {},
   "outputs": [
    {
     "data": {
      "text/plain": [
       "dict_keys(['sar_incidenceangles', 'sar_primary', 'sar_secondary', 'polygon_codes', 'polygon_icechart', 'sar_grid_line', 'sar_grid_sample', 'sar_grid_latitude', 'sar_grid_longitude', 'sar_grid_incidenceangle', 'sar_grid_height', 'distance_map', 'nersc_sar_primary', 'nersc_sar_secondary', 'btemp_6.9h', 'btemp_6.9v', 'btemp_7.3h', 'btemp_7.3v', 'btemp_10.7h', 'btemp_10.7v', 'btemp_18.7h', 'btemp_18.7v', 'btemp_23.8h', 'btemp_23.8v', 'btemp_36.5h', 'btemp_36.5v', 'btemp_89.0ah', 'btemp_89.0bh', 'btemp_89.0av', 'btemp_89.0bv', 'btemp_89.0h', 'btemp_89.0v', 'lon', 'lat', 'sample', 'line', 'delays', 'count'])"
      ]
     },
     "execution_count": 5,
     "metadata": {},
     "output_type": "execute_result"
    }
   ],
   "source": [
    "ncf.variables.keys()"
   ]
  },
  {
   "cell_type": "code",
   "execution_count": null,
   "metadata": {},
   "outputs": [],
   "source": [
    "labels = data_utils.get_labels(ncf)"
   ]
  },
  {
   "cell_type": "code",
   "execution_count": null,
   "metadata": {},
   "outputs": [],
   "source": [
    "np.vectorize(data_utils._c_i2n.get)(np.unique(labels))"
   ]
  },
  {
   "cell_type": "code",
   "execution_count": null,
   "metadata": {},
   "outputs": [],
   "source": [
    "plt.imshow(labels)"
   ]
  },
  {
   "cell_type": "code",
   "execution_count": null,
   "metadata": {},
   "outputs": [],
   "source": [
    "a = np.array([[1, 2, 3], [2, 3, 4]])\n",
    "np.vectorize({1: 'a', 2: 'b', 3: 'c', 4: 'd'}.get)(a)"
   ]
  },
  {
   "cell_type": "code",
   "execution_count": null,
   "metadata": {},
   "outputs": [],
   "source": [
    "plt.subplot(1, 2, 1)\n",
    "plt.imshow(nersc[..., 0], cmap='gray')\n",
    "plt.subplot(1, 2, 2)\n",
    "plt.imshow(sar[..., 0], cmap='gray')"
   ]
  },
  {
   "cell_type": "code",
   "execution_count": null,
   "metadata": {},
   "outputs": [],
   "source": [
    "ary = np.array(ncf.variables.get('sar_grid_latitude'))"
   ]
  },
  {
   "cell_type": "code",
   "execution_count": null,
   "metadata": {},
   "outputs": [],
   "source": [
    "ary.shape"
   ]
  },
  {
   "cell_type": "code",
   "execution_count": null,
   "metadata": {},
   "outputs": [],
   "source": [
    "print(np.array(sar.shape))\n",
    "print(50 * np.array(btemp.shape))"
   ]
  },
  {
   "cell_type": "code",
   "execution_count": null,
   "metadata": {},
   "outputs": [],
   "source": []
  }
 ],
 "metadata": {
  "kernelspec": {
   "display_name": "Python 3",
   "language": "python",
   "name": "python3"
  },
  "language_info": {
   "codemirror_mode": {
    "name": "ipython",
    "version": 3
   },
   "file_extension": ".py",
   "mimetype": "text/x-python",
   "name": "python",
   "nbconvert_exporter": "python",
   "pygments_lexer": "ipython3",
   "version": "3.8.6"
  }
 },
 "nbformat": 4,
 "nbformat_minor": 4
}
